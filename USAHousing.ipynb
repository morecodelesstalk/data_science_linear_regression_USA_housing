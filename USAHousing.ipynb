{
  "cells": [
    {
      "cell_type": "markdown",
      "metadata": {
        "id": "view-in-github",
        "colab_type": "text"
      },
      "source": [
        "<a href=\"https://colab.research.google.com/github/morecodelesstalk/data_science_linear_regression_USA_housing/blob/main/USAHousing.ipynb\" target=\"_parent\"><img src=\"https://colab.research.google.com/assets/colab-badge.svg\" alt=\"Open In Colab\"/></a>"
      ]
    },
    {
      "cell_type": "markdown",
      "metadata": {
        "id": "A9gypP1ps5PH"
      },
      "source": [
        "### Problema\n",
        "\n",
        "Seu vizinho é um agente imobiliário e quer alguma ajuda a prever os preços das casas para as regiões nos EUA. Seria ótimo se você pudesse de alguma forma criar um modelo para ela que lhe permita colocar algumas características de uma casa e retornar uma estimativa de quanto a casa venderia.\n",
        "\n",
        "Ela perguntou se você poderia ajudá-la com suas novas habilidades de ciência de dados. Você diz sim e decide que a Regressão Linear pode ser um bom caminho para resolver esse problema.\n",
        "\n",
        "Seu vizinho, em seguida, dá-lhe algumas informações sobre um monte de casas em regiões dos Estados Unidos. tudo está contido no arquivo: USA_Housing.csv.\n",
        "\n",
        "Os dados contém as seguintes colunas:\n",
        "\n",
        "* 'Avg. Area Income': Média da renda dos residentes de onde a casa está localizada.\n",
        "* 'Avg. Area House Age': Média de idade das casas da mesma cidade.\n",
        "* 'Avg. Area Number of Rooms': Número médio de quartos para casas na mesma cidade.\n",
        "* 'Avg. Area Number of Bedrooms': Número médio de quartos para casas na mesma cidade\n",
        "* 'Area Population': A população da cidade onde a casa está localizada.\n",
        "* 'Price': Preço de venda da casa.\n",
        "* 'Address': Endereço da casa;"
      ]
    },
    {
      "cell_type": "markdown",
      "metadata": {
        "id": "k0txdLuP1td-"
      },
      "source": [
        "### Imports"
      ]
    },
    {
      "cell_type": "code",
      "execution_count": null,
      "metadata": {
        "id": "jyETBmfGsutt"
      },
      "outputs": [],
      "source": [
        "# importar bibliotecas\n",
        "import pandas as pd\n",
        "import numpy as np\n",
        "import matplotlib.pyplot as plt\n",
        "import seaborn as sns\n",
        "import sklearn as sk\n",
        "\n",
        "%matplotlib inline"
      ]
    },
    {
      "cell_type": "markdown",
      "metadata": {
        "id": "S0tE0AZF1teA"
      },
      "source": [
        "### Dataset"
      ]
    },
    {
      "cell_type": "code",
      "execution_count": null,
      "metadata": {
        "id": "mP5K9gwAtXvR"
      },
      "outputs": [],
      "source": [
        "arquivo = \"USA_Housing.csv\""
      ]
    },
    {
      "cell_type": "code",
      "execution_count": null,
      "metadata": {
        "id": "VX3HG-kJuHbB"
      },
      "outputs": [],
      "source": [
        "dados_casa = pd.read_csv(arquivo)"
      ]
    },
    {
      "cell_type": "markdown",
      "metadata": {
        "id": "ZZpu9QhK1teA"
      },
      "source": [
        "### Data analysis"
      ]
    },
    {
      "cell_type": "code",
      "execution_count": null,
      "metadata": {
        "id": "qdewXcXyugqz"
      },
      "outputs": [],
      "source": [
        "dados_casa"
      ]
    },
    {
      "cell_type": "code",
      "execution_count": null,
      "metadata": {
        "id": "0_eKmSLQu_wr"
      },
      "outputs": [],
      "source": [
        "dados_casa.columns"
      ]
    },
    {
      "cell_type": "markdown",
      "metadata": {
        "id": "qOACBKA6u3SQ"
      },
      "source": [
        "input (X) numerical columns:\n",
        "\n",
        "- 'Avg. Area Income',\n",
        "- 'Avg. Area House Age',\n",
        "- 'Avg. Area Number of Rooms',\n",
        "- 'Avg. Area Number of Bedrooms',\n",
        "- 'Area Population',\n",
        "\n",
        "\n",
        "output (y):\n",
        "- 'Price'\n"
      ]
    },
    {
      "cell_type": "code",
      "execution_count": null,
      "metadata": {
        "id": "0xWLQWjRvaIA"
      },
      "outputs": [],
      "source": [
        "# Show first elements of our dataset\n",
        "dados_casa.head(3)"
      ]
    },
    {
      "cell_type": "code",
      "execution_count": null,
      "metadata": {
        "id": "Mg80pz8QvhNH"
      },
      "outputs": [],
      "source": [
        "# Show last elements of our dataset\n",
        "dados_casa.tail(3)"
      ]
    },
    {
      "cell_type": "code",
      "execution_count": null,
      "metadata": {
        "id": "THQ-eg_Rvy2r"
      },
      "outputs": [],
      "source": [
        "dados_casa.info()"
      ]
    },
    {
      "cell_type": "code",
      "execution_count": null,
      "metadata": {
        "id": "AgU0m4SYwfXv"
      },
      "outputs": [],
      "source": [
        "dados_casa.describe()"
      ]
    },
    {
      "cell_type": "code",
      "execution_count": null,
      "metadata": {
        "id": "U_sBFrKixpen"
      },
      "outputs": [],
      "source": [
        "type(dados_casa)"
      ]
    },
    {
      "cell_type": "code",
      "execution_count": null,
      "metadata": {
        "id": "8Um9frbFxAjd"
      },
      "outputs": [],
      "source": [
        "sns.pairplot(dados_casa)"
      ]
    },
    {
      "cell_type": "code",
      "execution_count": null,
      "metadata": {
        "id": "CyE_obtk0dGq"
      },
      "outputs": [],
      "source": [
        "sns.displot(dados_casa['Price'])"
      ]
    },
    {
      "cell_type": "code",
      "execution_count": null,
      "metadata": {
        "id": "D4jtuVnz1LMB"
      },
      "outputs": [],
      "source": [
        "correlacoes = dados_casa.corr()\n",
        "correlacoes"
      ]
    },
    {
      "cell_type": "code",
      "execution_count": null,
      "metadata": {
        "id": "IGjSRDzg1snt"
      },
      "outputs": [],
      "source": [
        "sns.heatmap( correlacoes )"
      ]
    },
    {
      "cell_type": "markdown",
      "metadata": {
        "id": "6QwmxO241teC"
      },
      "source": [
        "### Train test split"
      ]
    },
    {
      "cell_type": "code",
      "execution_count": null,
      "metadata": {
        "id": "z8gXMKpawATl"
      },
      "outputs": [],
      "source": [
        "dados_casa.columns"
      ]
    },
    {
      "cell_type": "code",
      "execution_count": null,
      "metadata": {
        "id": "j3D1Q1hnzGKJ"
      },
      "outputs": [],
      "source": [
        "X_coluna = ['Avg. Area Income',\n",
        "            'Avg. Area House Age',\n",
        "            'Avg. Area Number of Rooms',\n",
        "            'Avg. Area Number of Bedrooms',\n",
        "            'Area Population']"
      ]
    },
    {
      "cell_type": "code",
      "execution_count": null,
      "metadata": {
        "id": "V2IFDWsm1teD"
      },
      "outputs": [],
      "source": [
        "y_coluna = ['Price']"
      ]
    },
    {
      "cell_type": "code",
      "execution_count": null,
      "metadata": {
        "id": "IElvuUxezaKq"
      },
      "outputs": [],
      "source": [
        "X = dados_casa[ X_coluna ]\n",
        "X"
      ]
    },
    {
      "cell_type": "code",
      "execution_count": null,
      "metadata": {
        "id": "Q_gIr73XzDHp"
      },
      "outputs": [],
      "source": [
        "y = dados_casa['Price']\n",
        "y"
      ]
    },
    {
      "cell_type": "code",
      "execution_count": null,
      "metadata": {
        "id": "tE9Reo4n3AX7"
      },
      "outputs": [],
      "source": [
        "from sklearn.model_selection import train_test_split"
      ]
    },
    {
      "cell_type": "code",
      "execution_count": null,
      "metadata": {
        "id": "LiT0RyDO3RTb"
      },
      "outputs": [],
      "source": [
        "X_treino, X_teste, y_treino, y_teste  = train_test_split(X, y, test_size = 0.2)"
      ]
    },
    {
      "cell_type": "code",
      "execution_count": null,
      "metadata": {
        "id": "kn5Itsbe4JaD"
      },
      "outputs": [],
      "source": [
        "X_treino"
      ]
    },
    {
      "cell_type": "code",
      "execution_count": null,
      "metadata": {
        "id": "yMrxGv9N4bdT"
      },
      "outputs": [],
      "source": [
        "X_teste"
      ]
    },
    {
      "cell_type": "code",
      "execution_count": null,
      "metadata": {
        "id": "3Q9a9edn4eLc"
      },
      "outputs": [],
      "source": [
        "y_treino"
      ]
    },
    {
      "cell_type": "code",
      "execution_count": null,
      "metadata": {
        "id": "SZHkG9NM4gUR"
      },
      "outputs": [],
      "source": [
        "y_teste"
      ]
    },
    {
      "cell_type": "markdown",
      "metadata": {
        "id": "yfZxbAeC5BfR"
      },
      "source": [
        "### Fit"
      ]
    },
    {
      "cell_type": "code",
      "execution_count": null,
      "metadata": {
        "id": "S_9esh894_lL"
      },
      "outputs": [],
      "source": [
        "from sklearn.linear_model import LinearRegression"
      ]
    },
    {
      "cell_type": "code",
      "execution_count": null,
      "metadata": {
        "id": "6QBq4Lkk5QBF"
      },
      "outputs": [],
      "source": [
        "modelo_regressao_linear = LinearRegression()"
      ]
    },
    {
      "cell_type": "code",
      "execution_count": null,
      "metadata": {
        "id": "vADp7s6k5Yyq"
      },
      "outputs": [],
      "source": [
        "modelo_regressao_linear.fit(X_treino, y_treino)"
      ]
    },
    {
      "cell_type": "code",
      "execution_count": null,
      "metadata": {
        "id": "YfuCMG1S1teE"
      },
      "outputs": [],
      "source": [
        "print('Coeficientes (angulares) do modelo de regressão linear ', modelo_regressao_linear.coef_)"
      ]
    },
    {
      "cell_type": "code",
      "execution_count": null,
      "metadata": {
        "id": "k4XRP8Ne1teE"
      },
      "outputs": [],
      "source": [
        "print('Coeficiente linear do modelo de regressão linear ', modelo_regressao_linear.intercept_)"
      ]
    },
    {
      "cell_type": "code",
      "execution_count": null,
      "metadata": {
        "id": "ErnuiK4F52qJ"
      },
      "outputs": [],
      "source": [
        "# x1 - Avg. Area Income\n",
        "# x2 - Avg. Area House Age\n",
        "# x3 - Avg. Area Number of Rooms\n",
        "# x4 - Avg. Area Number of Bedrooms\n",
        "# x5 - Area Population\n",
        "\n",
        "\n",
        "equacao_modelo = '''\n",
        "                  y = 2.15669494e+01 * X1 => coef[1] * Avg. Area Income\n",
        "                    + 1.64796333e+05 * x2 => coef[2] * Avg. Area House Age\n",
        "                    + 1.19513029e+05 * x3 => coef[3] * Avg. Area Number of Rooms\n",
        "                    + 2.18188514e+03 * x4 => coef[4] * Avg. Area Number of Bedrooms\n",
        "                    + 1.51379912e+01 * x5 => coef[5] * Area Population\n",
        "                    + -2622798.165901833 => intercept\n",
        "                 '''\n",
        "\n",
        "print('A equacao do nosso modelo é ', equacao_modelo)"
      ]
    },
    {
      "cell_type": "code",
      "execution_count": null,
      "metadata": {
        "id": "AOoAlQMq7WOi"
      },
      "outputs": [],
      "source": [
        "coeficientes_df = pd.DataFrame(modelo_regressao_linear.coef_, X.columns, columns=['Coeficientes'])\n",
        "\n",
        "print(coeficientes_df)"
      ]
    },
    {
      "cell_type": "code",
      "execution_count": null,
      "metadata": {
        "id": "f97Rtwbo1teM"
      },
      "outputs": [],
      "source": [
        "coeficientes_df.to_csv('coeficientes_modelo_casa.csv')"
      ]
    },
    {
      "cell_type": "markdown",
      "metadata": {
        "id": "CP9FpYgX8aM_"
      },
      "source": [
        "### Prediction"
      ]
    },
    {
      "cell_type": "code",
      "execution_count": null,
      "metadata": {
        "id": "xGq9NEUX8btp"
      },
      "outputs": [],
      "source": [
        "predicoes = modelo_regressao_linear.predict(X_teste)"
      ]
    },
    {
      "cell_type": "markdown",
      "metadata": {
        "id": "7Uuj13xA1teN"
      },
      "source": [
        "### Metrics"
      ]
    },
    {
      "cell_type": "code",
      "execution_count": null,
      "metadata": {
        "id": "94uiRYzP83f_"
      },
      "outputs": [],
      "source": [
        "plt.scatter(y_teste, predicoes)"
      ]
    },
    {
      "cell_type": "code",
      "execution_count": null,
      "metadata": {
        "id": "op39F_8CEmCe"
      },
      "outputs": [],
      "source": [
        "from sklearn import metrics"
      ]
    },
    {
      "cell_type": "code",
      "execution_count": null,
      "metadata": {
        "id": "j_pWSkRWFUlV"
      },
      "outputs": [],
      "source": [
        "mae = metrics.mean_absolute_error(y_teste, predicoes)\n",
        "\n",
        "print('MAE(mean absolute error) - Erro médio absoluto ', mae)"
      ]
    },
    {
      "cell_type": "code",
      "execution_count": null,
      "metadata": {
        "id": "k29F_kCUFp58"
      },
      "outputs": [],
      "source": [
        "mse = metrics.mean_squared_error(y_teste, predicoes)\n",
        "\n",
        "print('MSE (mean square error) - Erro quadrático médio ', mse)"
      ]
    },
    {
      "cell_type": "code",
      "execution_count": null,
      "metadata": {
        "id": "LVHFeiZRFxy9"
      },
      "outputs": [],
      "source": [
        "rmse = np.sqrt(mse)\n",
        "\n",
        "print('RMSE (root mean square error) - Raiz rrro quadrático médio ', rmse)"
      ]
    },
    {
      "cell_type": "markdown",
      "metadata": {
        "id": "f41PkyzlHBr5"
      },
      "source": [
        "### Test our algoritm"
      ]
    },
    {
      "cell_type": "code",
      "execution_count": null,
      "metadata": {
        "id": "XNPjCSxyG1fn"
      },
      "outputs": [],
      "source": [
        "X.columns"
      ]
    },
    {
      "cell_type": "code",
      "execution_count": null,
      "metadata": {
        "id": "AXh2-7GWG_YP"
      },
      "outputs": [],
      "source": [
        "print('Entre com Renda média')\n",
        "renda_media = float(input())\n",
        "print('Entre com Média da idade casa')\n",
        "idade_casa = float(input())\n",
        "print('Entre com  Média número de quartos')\n",
        "numero_quartos = float(input())\n",
        "print('Entre com Média de banheiros')\n",
        "banheiros = float(input())\n",
        "print('Entre com Populacao')\n",
        "populacao = float(input())"
      ]
    },
    {
      "cell_type": "code",
      "execution_count": null,
      "metadata": {
        "id": "NzUB9GeKIRSo"
      },
      "outputs": [],
      "source": [
        "np.shape(X_treino)"
      ]
    },
    {
      "cell_type": "code",
      "execution_count": null,
      "metadata": {
        "id": "Wt1lgu5uIEXI"
      },
      "outputs": [],
      "source": [
        "dados_entrada_usuario = [renda_media, idade_casa, numero_quartos, banheiros, populacao]"
      ]
    },
    {
      "cell_type": "code",
      "execution_count": null,
      "metadata": {
        "id": "RUnfvZkEIcCk"
      },
      "outputs": [],
      "source": [
        "dados_entrada_usuario = np.reshape(dados_entrada_usuario, (1,5))"
      ]
    },
    {
      "cell_type": "code",
      "execution_count": null,
      "metadata": {
        "id": "vXAZ6ZJYImIp"
      },
      "outputs": [],
      "source": [
        "np.shape(dados_entrada_usuario)"
      ]
    },
    {
      "cell_type": "code",
      "execution_count": null,
      "metadata": {
        "id": "VbRrLsuOH5r8"
      },
      "outputs": [],
      "source": [
        "previsao_preco_casa = modelo_regressao_linear.predict(dados_entrada_usuario)"
      ]
    },
    {
      "cell_type": "code",
      "execution_count": null,
      "metadata": {
        "id": "IH9xZ8i4IpCz"
      },
      "outputs": [],
      "source": [
        "maximo = previsao_preco_casa + mae\n",
        "minimo = previsao_preco_casa - mae\n",
        "\n",
        "print('A previsa do valor da casa é ', previsao_preco_casa, ' há a possibilidade do valor estar entre ', maximo, minimo)"
      ]
    },
    {
      "cell_type": "code",
      "execution_count": null,
      "metadata": {
        "id": "eLd_wuD8Ji3t"
      },
      "outputs": [],
      "source": [
        "valores_coef = coeficientes_df['Coeficientes'].values\n",
        "\n",
        "valores_coef[0]"
      ]
    },
    {
      "cell_type": "code",
      "execution_count": null,
      "metadata": {
        "id": "TqXFGvXQJfER"
      },
      "outputs": [],
      "source": [
        "y = valores_coef[0] * renda_media + valores_coef[1] * idade_casa + valores_coef[2] * numero_quartos + valores_coef[3] * banheiros + valores_coef[4] * populacao + -2629350.688948173"
      ]
    },
    {
      "cell_type": "code",
      "execution_count": null,
      "metadata": {
        "id": "9h9UtZiGKbcy"
      },
      "outputs": [],
      "source": [
        "y"
      ]
    },
    {
      "cell_type": "code",
      "execution_count": null,
      "metadata": {
        "id": "zqkalNuMMrAy"
      },
      "outputs": [],
      "source": [
        "print('O valor da predição foi ', y)"
      ]
    }
  ],
  "metadata": {
    "colab": {
      "name": "NotaAula1_5fevereiro2022.ipynb",
      "private_outputs": true,
      "provenance": [],
      "include_colab_link": true
    },
    "kernelspec": {
      "display_name": "Python 3",
      "language": "python",
      "name": "python3"
    },
    "language_info": {
      "codemirror_mode": {
        "name": "ipython",
        "version": 3
      },
      "file_extension": ".py",
      "mimetype": "text/x-python",
      "name": "python",
      "nbconvert_exporter": "python",
      "pygments_lexer": "ipython3",
      "version": "3.8.8"
    }
  },
  "nbformat": 4,
  "nbformat_minor": 0
}