{
 "cells": [
  {
   "cell_type": "markdown",
   "metadata": {
    "id": "A9gypP1ps5PH"
   },
   "source": [
    "# Problema\n",
    "Seu vizinho é um agente imobiliário e quer alguma ajuda a prever os preços das casas para as regiões nos EUA. Seria ótimo se você pudesse de alguma forma criar um modelo para ela que lhe permita colocar algumas características de uma casa e retornar uma estimativa de quanto a casa venderia.\n",
    "\n",
    "Ela perguntou se você poderia ajudá-la com suas novas habilidades de ciência de dados. Você diz sim e decide que a Regressão Linear pode ser um bom caminho para resolver esse problema.\n",
    "\n",
    "Seu vizinho, em seguida, dá-lhe algumas informações sobre um monte de casas em regiões dos Estados Unidos. tudo está contido no arquivo: USA_Housing.csv.\n",
    "\n",
    "Os dados contém as seguintes colunas:\n",
    "\n",
    "* 'Avg. Area Income': Média da renda dos residentes de onde a casa está localizada.\n",
    "* 'Avg. Area House Age': Média de idade das casas da mesma cidade.\n",
    "* 'Avg. Area Number of Rooms': Número médio de quartos para casas na mesma cidade.\n",
    "* 'Avg. Area Number of Bedrooms': Número médio de quartos para casas na mesma cidade\n",
    "* 'Area Population': A população da cidade onde a casa está localizada.\n",
    "* 'Price': Preço de venda da casa.\n",
    "* 'Address': Endereço da casa;"
   ]
  },
  {
   "cell_type": "code",
   "execution_count": null,
   "metadata": {
    "id": "bFW0CdIwCOhe"
   },
   "outputs": [],
   "source": [
    "from google.colab import drive\n",
    "drive.mount('/content/drive')"
   ]
  },
  {
   "cell_type": "code",
   "execution_count": null,
   "metadata": {
    "id": "jyETBmfGsutt"
   },
   "outputs": [],
   "source": [
    "# importar bibliotecas\n",
    "import pandas as pd\n",
    "import numpy as np\n",
    "import matplotlib.pyplot as plt\n",
    "import seaborn as sns\n",
    "import sklearn as sk\n",
    "\n",
    "%matplotlib inline"
   ]
  },
  {
   "cell_type": "code",
   "execution_count": null,
   "metadata": {
    "id": "mP5K9gwAtXvR"
   },
   "outputs": [],
   "source": [
    "arquivo = \"/content/drive/MyDrive/ceub/curso_introducao_aprendizagem_de_maquina/02_Regressao_Linear/USA_Housing.csv\""
   ]
  },
  {
   "cell_type": "code",
   "execution_count": null,
   "metadata": {
    "id": "B3txm4HBCv7u"
   },
   "outputs": [],
   "source": [
    "# link do arquivo no google do professor USA_Housing.csv  \"https://drive.google.com/file/d/19SnIhZZ9oLWTRV-x-0QNkhNnqGQ1ePtJ/view?usp=sharing\"\n",
    "\n",
    "link = 'https://drive.google.com/uc?export=download&id=19SnIhZZ9oLWTRV-x-0QNkhNnqGQ1ePtJ'\n",
    "\n",
    "dados_casa_link = pd.read_csv(link)\n",
    "\n",
    "dados_casa_link"
   ]
  },
  {
   "cell_type": "code",
   "execution_count": null,
   "metadata": {
    "id": "VX3HG-kJuHbB"
   },
   "outputs": [],
   "source": [
    "#  Esta linha pode dar um erro caso você não o arquivo USA_Housing.csv no seu drive\n",
    "# o valor da variável arquivo contém \"/content/drive/MyDrive/ceub/curso_introducao_aprendizagem_de_maquina/02_Regressao_Linear/\n",
    "# Caso você não tenha a pasta ceub/curso_introducao_aprendizagem_de_maquina/ no seu drive vai ocorrer erro\n",
    "# Então você pode comentar esta célula\n",
    "dados_casa = pd.read_csv(arquivo)"
   ]
  },
  {
   "cell_type": "code",
   "execution_count": null,
   "metadata": {
    "id": "qdewXcXyugqz"
   },
   "outputs": [],
   "source": [
    "dados_casa"
   ]
  },
  {
   "cell_type": "code",
   "execution_count": null,
   "metadata": {
    "id": "0_eKmSLQu_wr"
   },
   "outputs": [],
   "source": [
    "dados_casa.columns"
   ]
  },
  {
   "cell_type": "markdown",
   "metadata": {
    "id": "qOACBKA6u3SQ"
   },
   "source": [
    "Dado de entrada (X) serão dados numéricos\n",
    "\n",
    "'Avg. Area Income', \n",
    "'Avg. Area House Age', \n",
    "'Avg. Area Number of Rooms',\n",
    "'Avg. Area Number of Bedrooms', \n",
    "'Area Population',\n",
    "\n",
    "\n",
    "Dado de saída Y\n",
    "'Price'\n"
   ]
  },
  {
   "cell_type": "code",
   "execution_count": null,
   "metadata": {
    "id": "0xWLQWjRvaIA"
   },
   "outputs": [],
   "source": [
    "# Exibir os primeiros elemementos do nosso dados\n",
    "dados_casa.head(3)"
   ]
  },
  {
   "cell_type": "code",
   "execution_count": null,
   "metadata": {
    "id": "Mg80pz8QvhNH"
   },
   "outputs": [],
   "source": [
    "# Exibir os últimos elemementos do nosso dados\n",
    "dados_casa.tail(3)"
   ]
  },
  {
   "cell_type": "code",
   "execution_count": null,
   "metadata": {
    "id": "0qfnnUvFvt-A"
   },
   "outputs": [],
   "source": [
    "# Vamos entender nossos dados"
   ]
  },
  {
   "cell_type": "code",
   "execution_count": null,
   "metadata": {
    "id": "THQ-eg_Rvy2r"
   },
   "outputs": [],
   "source": [
    "# Vamos se temos dados ausentes\n",
    "# nossos dados possuem 5000 linhas e non-null significa que a coluna de dados não tem dados ausentes\n",
    "dados_casa.info()"
   ]
  },
  {
   "cell_type": "code",
   "execution_count": null,
   "metadata": {
    "id": "AgU0m4SYwfXv"
   },
   "outputs": [],
   "source": [
    "# count significa que cada coluna tem 5000 dados\n",
    "# mean significa a média dos valores da coluna. Ex: 68583.108984 é a média da Avg. Area Income\t\n",
    "# std significa o desvio padrão dos valores da coluna\n",
    "# min é o valor mínimo de uma coluna\n",
    "# max é o valor máximo de uma coluna\n",
    "# 25%,50% e 70% são os quartis\n",
    "dados_casa.describe()"
   ]
  },
  {
   "cell_type": "code",
   "execution_count": null,
   "metadata": {
    "id": "a25BHyPEwmNe"
   },
   "outputs": [],
   "source": [
    "# Vamos fazer uma análise exploratória em cima dos dados"
   ]
  },
  {
   "cell_type": "code",
   "execution_count": null,
   "metadata": {
    "id": "U_sBFrKixpen"
   },
   "outputs": [],
   "source": [
    "# dados_casa é um DataFrame\n",
    "type(dados_casa)"
   ]
  },
  {
   "cell_type": "markdown",
   "metadata": {
    "id": "GHgCR5koyGlT"
   },
   "source": [
    "Como eu quero prever o preço(price) eu irei olhar a linha onde está price se relacionando com cada coluna\n",
    "Vamos olhar o pairplot para tentar verificar se o modelo de regressão linear é adequado para resolver seu problema"
   ]
  },
  {
   "cell_type": "code",
   "execution_count": null,
   "metadata": {
    "id": "8Um9frbFxAjd"
   },
   "outputs": [],
   "source": [
    "sns.pairplot(dados_casa)"
   ]
  },
  {
   "cell_type": "code",
   "execution_count": null,
   "metadata": {
    "id": "CyE_obtk0dGq"
   },
   "outputs": [],
   "source": [
    "sns.distplot(dados_casa['Price'])"
   ]
  },
  {
   "cell_type": "code",
   "execution_count": null,
   "metadata": {
    "id": "D4jtuVnz1LMB"
   },
   "outputs": [],
   "source": [
    "correlacoes = dados_casa.corr()\n",
    "correlacoes"
   ]
  },
  {
   "cell_type": "code",
   "execution_count": null,
   "metadata": {
    "id": "IGjSRDzg1snt"
   },
   "outputs": [],
   "source": [
    "sns.heatmap( correlacoes )"
   ]
  },
  {
   "cell_type": "code",
   "execution_count": null,
   "metadata": {
    "id": "z8gXMKpawATl"
   },
   "outputs": [],
   "source": [
    "dados_casa.columns"
   ]
  },
  {
   "cell_type": "markdown",
   "metadata": {
    "id": "HQ_7Y3u30ep0"
   },
   "source": [
    "# Definindo X(dados de entrada) e y(dados de saída)\n",
    "# Este nosso modelo usa aprendizado supervisionado, pois informamos para o algoritmo os valores de saída esperado"
   ]
  },
  {
   "cell_type": "code",
   "execution_count": null,
   "metadata": {
    "id": "j3D1Q1hnzGKJ"
   },
   "outputs": [],
   "source": [
    "# vou definir quais colunas serão os valores para X e y\n",
    "\n",
    "X_coluna = ['Avg. Area Income', 'Avg. Area House Age', 'Avg. Area Number of Rooms','Avg. Area Number of Bedrooms', 'Area Population']\n",
    "y_coluna = ['Price']"
   ]
  },
  {
   "cell_type": "code",
   "execution_count": null,
   "metadata": {
    "id": "IElvuUxezaKq"
   },
   "outputs": [],
   "source": [
    "# meus dados de entrada serão X\n",
    "X = dados_casa[ X_coluna ]"
   ]
  },
  {
   "cell_type": "code",
   "execution_count": null,
   "metadata": {
    "id": "Q_gIr73XzDHp"
   },
   "outputs": [],
   "source": [
    "# vou definir meus dados de saída. São estes dados que o algoritmo precisa prever a partir dos valores de entrada (X)\n",
    "y = dados_casa['Price']"
   ]
  },
  {
   "cell_type": "code",
   "execution_count": null,
   "metadata": {
    "id": "6qG6DNUA3dkD"
   },
   "outputs": [],
   "source": [
    "X"
   ]
  },
  {
   "cell_type": "code",
   "execution_count": null,
   "metadata": {
    "id": "KwBRjBWb3e-N"
   },
   "outputs": [],
   "source": [
    "y"
   ]
  },
  {
   "cell_type": "code",
   "execution_count": null,
   "metadata": {
    "id": "P3SqMEmR2OKZ"
   },
   "outputs": [],
   "source": [
    "# Nossos modelos podem sofrer Overfitting ou sobreajuste\n",
    "# Isso acontece quando o algoritmo fica tendencioso para determinados dados\n",
    "# Vamos evitar esse problema"
   ]
  },
  {
   "cell_type": "code",
   "execution_count": null,
   "metadata": {
    "id": "ea_rWXeC2p5y"
   },
   "outputs": [],
   "source": [
    "# Para resolver vamos fazer uma divisão de dados entre treino e teste\n",
    "# Vamos dividir o nosso dado em duas partes. Dados de treino e dados de teste\n",
    "# Vamos utilizar train_test_split do sklearn"
   ]
  },
  {
   "cell_type": "code",
   "execution_count": null,
   "metadata": {
    "id": "tE9Reo4n3AX7"
   },
   "outputs": [],
   "source": [
    "# https://scikit-learn.org/stable/\n",
    "from sklearn.model_selection import train_test_split"
   ]
  },
  {
   "cell_type": "code",
   "execution_count": null,
   "metadata": {
    "id": "LiT0RyDO3RTb"
   },
   "outputs": [],
   "source": [
    "# Você informa para o train_test_split o dado de entrada X e o dado de saída \n",
    "# y\n",
    "# test_size=0.2 significa que estou querendo um tamanho de dado de teste de 20%(0.2*100)\n",
    "X_treino, X_teste, y_treino, y_teste  = train_test_split(X, y, test_size=0.2)"
   ]
  },
  {
   "cell_type": "code",
   "execution_count": null,
   "metadata": {
    "id": "rnkEvq-c4o2j"
   },
   "outputs": [],
   "source": [
    "X_treino, X_teste, y_treino, y_teste  = sk.model_selection.train_test_split(X, y, test_size=0.2)"
   ]
  },
  {
   "cell_type": "code",
   "execution_count": null,
   "metadata": {
    "id": "F5IbxShr4Nrl"
   },
   "outputs": [],
   "source": [
    "# train_test_split fez uma divisão dos dados de 4000 para treino e 1000 para teste\n",
    "# O algoritmo vai aprender apenas com dados de treino"
   ]
  },
  {
   "cell_type": "code",
   "execution_count": null,
   "metadata": {
    "id": "kn5Itsbe4JaD"
   },
   "outputs": [],
   "source": [
    "X_treino"
   ]
  },
  {
   "cell_type": "code",
   "execution_count": null,
   "metadata": {
    "id": "yMrxGv9N4bdT"
   },
   "outputs": [],
   "source": [
    "X_teste"
   ]
  },
  {
   "cell_type": "code",
   "execution_count": null,
   "metadata": {
    "id": "3Q9a9edn4eLc"
   },
   "outputs": [],
   "source": [
    "y_treino"
   ]
  },
  {
   "cell_type": "code",
   "execution_count": null,
   "metadata": {
    "id": "SZHkG9NM4gUR"
   },
   "outputs": [],
   "source": [
    "y_teste"
   ]
  },
  {
   "cell_type": "markdown",
   "metadata": {
    "id": "yfZxbAeC5BfR"
   },
   "source": [
    "# Vamos criar nosso primeiro modelo de machine. No caso que é regressão linear"
   ]
  },
  {
   "cell_type": "code",
   "execution_count": null,
   "metadata": {
    "id": "S_9esh894_lL"
   },
   "outputs": [],
   "source": [
    "# https://scikit-learn.org/stable/modules/generated/sklearn.linear_model.LinearRegression.html?highlight=linearregression#sklearn.linear_model.LinearRegression\n",
    "from sklearn.linear_model import LinearRegression"
   ]
  },
  {
   "cell_type": "code",
   "execution_count": null,
   "metadata": {
    "id": "6QBq4Lkk5QBF"
   },
   "outputs": [],
   "source": [
    "modelo_regressao_linear = LinearRegression() # instanciando o modelo\n",
    "\n",
    "# modelo_regressao_linear = sk.linear_model.LinearRegression() # instanciando o modelo"
   ]
  },
  {
   "cell_type": "code",
   "execution_count": null,
   "metadata": {
    "id": "vADp7s6k5Yyq"
   },
   "outputs": [],
   "source": [
    "# Vamos fazer nosso algoritmo aprender\n",
    "# Vamos fornecer para o algoritmo os dados para treinamento\n",
    "modelo_regressao_linear.fit(X_treino, y_treino)"
   ]
  },
  {
   "cell_type": "code",
   "execution_count": null,
   "metadata": {
    "id": "ErnuiK4F52qJ"
   },
   "outputs": [],
   "source": [
    "print('Coeficientes (angulares) do modelo de regressão linear ',modelo_regressao_linear.coef_)\n",
    "print('Coeficiente linear do modelo de regressão linear ',modelo_regressao_linear.intercept_)\n",
    "# x1 - Avg. Area Income\t\n",
    "# x2 - Avg. Area House Age\t\n",
    "# x3 - Avg. Area Number of Rooms\t\n",
    "# x4 - Avg. Area Number of Bedrooms\t\n",
    "# x5 - Area Population\n",
    "equacao_modelo = \"y = 2.15271349e*X1 + 1.65050227*x2 + 1.20618096*x3 + 1.54313734e*x4 + 1.51753510*x5 + -2629350.688948173\"\n",
    "print('A equacao do nosso modelo é ',equacao_modelo)"
   ]
  },
  {
   "cell_type": "code",
   "execution_count": null,
   "metadata": {
    "id": "_0FtFVsB70QU"
   },
   "outputs": [],
   "source": [
    "modelo_regressao_linear.coef_"
   ]
  },
  {
   "cell_type": "code",
   "execution_count": null,
   "metadata": {
    "id": "lKmnt0nZ6UIJ"
   },
   "outputs": [],
   "source": [
    "X_treino"
   ]
  },
  {
   "cell_type": "code",
   "execution_count": null,
   "metadata": {
    "id": "AOoAlQMq7WOi"
   },
   "outputs": [],
   "source": [
    "coeficientes_df = pd.DataFrame(modelo_regressao_linear.coef_, X.columns, columns=['Coeficientes'])\n",
    "print(coeficientes_df)\n",
    "\n",
    "PASTA_DRIVE = '/content/drive/MyDrive/ceub/curso_introducao_aprendizagem_de_maquina/02_Regressao_Linear/'\n",
    "coeficientes_df.to_csv(PASTA_DRIVE+'coeficientes_modelo_casa_aula5fev2022.csv')"
   ]
  },
  {
   "cell_type": "markdown",
   "metadata": {
    "id": "CP9FpYgX8aM_"
   },
   "source": [
    "# Vamos fazer uma previsão do modelo"
   ]
  },
  {
   "cell_type": "code",
   "execution_count": null,
   "metadata": {
    "id": "xGq9NEUX8btp"
   },
   "outputs": [],
   "source": [
    "# Vamos usar o método predict para prever valores com dados que o algoritmo não viu durante o treino\n",
    "predicoes = modelo_regressao_linear.predict(X_teste)"
   ]
  },
  {
   "cell_type": "code",
   "execution_count": null,
   "metadata": {
    "id": "KyrX512O8xl8"
   },
   "outputs": [],
   "source": [
    "# vamos criar um gráfico para entender as predições do modelo"
   ]
  },
  {
   "cell_type": "code",
   "execution_count": null,
   "metadata": {
    "id": "94uiRYzP83f_"
   },
   "outputs": [],
   "source": [
    "# y_teste é o valor real que o algoritmo deveria prever\n",
    "# predicoes estão os valores que o algoritmo encontrou\n",
    "plt.scatter(y_teste, predicoes)"
   ]
  },
  {
   "cell_type": "code",
   "execution_count": null,
   "metadata": {
    "id": "gsJwm8Wo9ImU"
   },
   "outputs": [],
   "source": [
    "print('y_teste[0]',y_teste.values[0], 'predicao[0]', predicoes[0])\n",
    "\n",
    "predicoes[0]-y_teste.values[0] # 67054.62979957717\n",
    "predicoes[1]-y_teste.values[1] # 31165.315860119183\n",
    "\n",
    "# (67054.62979957717 + 31165.315860119183) / 2\n",
    "\n",
    "soma = 0\n",
    "quantidade_valores = len(y_teste.values)\n",
    "for i in range(quantidade_valores):\n",
    "  soma = soma + np.abs(predicoes[i] - y_teste.values[i])\n",
    "\n",
    "media = soma / quantidade_valores\n",
    "\n",
    "print('MAE - erro médio absoluto', media)"
   ]
  },
  {
   "cell_type": "markdown",
   "metadata": {
    "id": "zxxpX9F5EPd_"
   },
   "source": [
    "Vamos avaliar o algoritmo\n",
    "\n",
    "Significa avaliar as métricas do algoritmo\n",
    "\n",
    "No caso regressão linear MAE mean absolute error - erro médio absoluto\n",
    "\n",
    "# MAE - erro médio absoluto\n",
    "# MSE - erro quadrático médio\n",
    "# RMSE - raiz do erro quadrático médio\n"
   ]
  },
  {
   "cell_type": "code",
   "execution_count": null,
   "metadata": {
    "id": "op39F_8CEmCe"
   },
   "outputs": [],
   "source": [
    "from sklearn import metrics"
   ]
  },
  {
   "cell_type": "code",
   "execution_count": null,
   "metadata": {
    "id": "j_pWSkRWFUlV"
   },
   "outputs": [],
   "source": [
    "# Não precisa programar porque isso já tem pronto\n",
    "mae = metrics.mean_absolute_error(y_teste, predicoes)\n",
    "print('MAE(mean absolute error) - Erro médio absoluto ',mae)\n"
   ]
  },
  {
   "cell_type": "code",
   "execution_count": null,
   "metadata": {
    "id": "k29F_kCUFp58"
   },
   "outputs": [],
   "source": [
    "mse = metrics.mean_squared_error(y_teste, predicoes)\n",
    "print('MSE (mean square error) - Erro quadrático médio ', mse)"
   ]
  },
  {
   "cell_type": "code",
   "execution_count": null,
   "metadata": {
    "id": "LVHFeiZRFxy9"
   },
   "outputs": [],
   "source": [
    "rmse = np.sqrt(mse)\n",
    "print('RMSE (root mean square error) - Raiz rrro quadrático médio ', rmse)"
   ]
  },
  {
   "cell_type": "markdown",
   "metadata": {
    "id": "f41PkyzlHBr5"
   },
   "source": [
    "# Vamos testar o algoritmo como um usuário"
   ]
  },
  {
   "cell_type": "code",
   "execution_count": null,
   "metadata": {
    "id": "XNPjCSxyG1fn"
   },
   "outputs": [],
   "source": [
    "X.columns"
   ]
  },
  {
   "cell_type": "code",
   "execution_count": null,
   "metadata": {
    "id": "AXh2-7GWG_YP"
   },
   "outputs": [],
   "source": [
    "print('Entre com Renda média')\n",
    "renda_media = float(input())\n",
    "print('Entre com Média da idade casa')\n",
    "idade_casa = float(input())\n",
    "print('Entre com  Média número de quartos')\n",
    "numero_quartos = float(input())\n",
    "print('Entre com Média de banheiros')\n",
    "banheiros = float(input())\n",
    "print('Entre com Populacao')\n",
    "populacao = float(input())"
   ]
  },
  {
   "cell_type": "code",
   "execution_count": null,
   "metadata": {
    "id": "NzUB9GeKIRSo"
   },
   "outputs": [],
   "source": [
    "np.shape(X_treino)"
   ]
  },
  {
   "cell_type": "code",
   "execution_count": null,
   "metadata": {
    "id": "Wt1lgu5uIEXI"
   },
   "outputs": [],
   "source": [
    "dados_entrada_usuario = [renda_media, idade_casa, numero_quartos, banheiros, populacao]"
   ]
  },
  {
   "cell_type": "code",
   "execution_count": null,
   "metadata": {
    "id": "RUnfvZkEIcCk"
   },
   "outputs": [],
   "source": [
    "dados_entrada_usuario = np.reshape(dados_entrada_usuario, (1,5))"
   ]
  },
  {
   "cell_type": "code",
   "execution_count": null,
   "metadata": {
    "id": "vXAZ6ZJYImIp"
   },
   "outputs": [],
   "source": [
    "np.shape(dados_entrada_usuario)"
   ]
  },
  {
   "cell_type": "code",
   "execution_count": null,
   "metadata": {
    "id": "VbRrLsuOH5r8"
   },
   "outputs": [],
   "source": [
    "previsao_preco_casa = modelo_regressao_linear.predict(dados_entrada_usuario)"
   ]
  },
  {
   "cell_type": "code",
   "execution_count": null,
   "metadata": {
    "id": "IH9xZ8i4IpCz"
   },
   "outputs": [],
   "source": [
    "maximo=previsao_preco_casa+mae\n",
    "minimo=previsao_preco_casa-mae\n",
    "print('A previsa do valor da casa é ', previsao_preco_casa, ' há a possibilidade do valor estar entre ', maximo, minimo)"
   ]
  },
  {
   "cell_type": "code",
   "execution_count": null,
   "metadata": {
    "id": "H-jvFvbBJIse"
   },
   "outputs": [],
   "source": [
    "# C, python, javascript, \n",
    "\n",
    "y = 2.15271349*renda_media + 1.65050227*idade_casa + 1.20618096*numero_quartos + 1.54313734*banheiros + 1.51753510*populacao + -2629350.688948173"
   ]
  },
  {
   "cell_type": "code",
   "execution_count": null,
   "metadata": {
    "id": "eLd_wuD8Ji3t"
   },
   "outputs": [],
   "source": [
    "valores_coef = coeficientes_df['Coeficientes'].values\n",
    "valores_coef[0]"
   ]
  },
  {
   "cell_type": "code",
   "execution_count": null,
   "metadata": {
    "id": "TqXFGvXQJfER"
   },
   "outputs": [],
   "source": [
    "y = valores_coef[0]*renda_media + valores_coef[1]*idade_casa + valores_coef[2]*numero_quartos + valores_coef[3]*banheiros + valores_coef[4]*populacao + -2629350.688948173"
   ]
  },
  {
   "cell_type": "code",
   "execution_count": null,
   "metadata": {
    "id": "9h9UtZiGKbcy"
   },
   "outputs": [],
   "source": [
    "y"
   ]
  },
  {
   "cell_type": "code",
   "execution_count": null,
   "metadata": {
    "id": "zqkalNuMMrAy"
   },
   "outputs": [],
   "source": [
    "print('O valor da predição foi ', y)"
   ]
  }
 ],
 "metadata": {
  "colab": {
   "authorship_tag": "ABX9TyOsELkH/6tqaIch5S3L08Df",
   "collapsed_sections": [],
   "mount_file_id": "1ScLKNatuKLywJEgPPhJC0u3YF0vdp40i",
   "name": "NotaAula1_5fevereiro2022.ipynb",
   "private_outputs": true,
   "provenance": []
  },
  "kernelspec": {
   "display_name": "Python 3",
   "language": "python",
   "name": "python3"
  },
  "language_info": {
   "codemirror_mode": {
    "name": "ipython",
    "version": 3
   },
   "file_extension": ".py",
   "mimetype": "text/x-python",
   "name": "python",
   "nbconvert_exporter": "python",
   "pygments_lexer": "ipython3",
   "version": "3.8.8"
  }
 },
 "nbformat": 4,
 "nbformat_minor": 1
}
